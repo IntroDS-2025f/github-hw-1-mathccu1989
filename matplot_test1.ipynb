{
 "cells": [
  {
   "cell_type": "markdown",
   "id": "9807d66b-92c1-42c3-8535-65aa10145ca1",
   "metadata": {},
   "source": [
    "---\n",
    "\n",
    "# GitHub Homework #1\n",
    "\n",
    "## (繳交時限: 2025/11/4 (Tuesday) 23:59 pm\n",
    "\n",
    "---\n"
   ]
  },
  {
   "cell_type": "markdown",
   "id": "f845047d-477d-46b8-b131-54aa1f5dceda",
   "metadata": {},
   "source": [
    "\n",
    "# 完成以下程式，執行其結果，上傳繳交至你的 GitHub account\n"
   ]
  },
  {
   "cell_type": "markdown",
   "id": "a61caee6-de4c-4e5b-960c-5854322d8142",
   "metadata": {},
   "source": [
    "---\n",
    "\n",
    "## 📌 題目 1：直方圖 (20 分)\n",
    "\n",
    "從正態分布產生 1000 筆資料，畫 **bins=30** 的直方圖。\n",
    "\n",
    "其他要求: \n",
    "\n",
    "> title: Normal Distribution Histogram\n",
    "\n",
    "> xlabel: Value\n",
    "\n",
    "> ylabel: Frequency\n",
    "\n",
    "---"
   ]
  },
  {
   "cell_type": "code",
   "execution_count": null,
   "id": "b15fe7ec-a361-4916-869e-c75a8e54fb8e",
   "metadata": {},
   "outputs": [],
   "source": [
    "# 你的程式\n",
    "\n",
    "import numpy as np\n",
    "import matplotlib.pyplot as plt\n",
    "\n",
    "data = np.random.randn(1000)\n",
    "\n",
    "\n",
    "plt.show()\n"
   ]
  },
  {
   "cell_type": "markdown",
   "id": "39226b19-1579-4045-8fee-58e1105b7215",
   "metadata": {},
   "source": [
    "---\n",
    "\n",
    "# 📌 題目 2：散佈圖 + 映色 + 對 size_var 做適度縮放 (30 分)\n",
    "\n",
    "令 = 200, 生成 n 個 x 與 y 隨機點，用 y 值映射顏色，用第三變數 size_var 來編點大小（positive）:\n",
    "\n",
    "```python\n",
    "size_var = np.abs(np.random.normal(loc=20, scale=10, size=n))  # 基礎點面積（可選擇縮放）\n",
    "```\n",
    "\n",
    "其他要求: \n",
    "\n",
    "> title: title: Scatter with Colormap\n",
    "\n",
    "> colarbar label: y-values\n",
    "\n",
    "> 參考程式: 資料生成與處理\n",
    "\n",
    "```python\n",
    "# 固定亂數種子以便結果可重現\n",
    "np.random.seed(768)\n",
    "n=200\n",
    "\n",
    "# 散佈圖資料\n",
    "x = np.random.normal(loc=2.0, scale=1.0, size=n)\n",
    "y = x * 0.5 + np.random.normal(scale=0.8, size=n)\n",
    "size_var = np.abs(np.random.normal(loc=20, scale=10, size=n))  # 基礎點面積（可選擇縮放）\n",
    "\n",
    "# 為了視覺效果，對 size_var 做適度縮放（matplotlib 的 s 參數是面積）\n",
    "size_scale = \n",
    "```\n",
    "--- "
   ]
  },
  {
   "cell_type": "code",
   "execution_count": null,
   "id": "96c85b67-0ae2-4c3a-a6e4-f47b7754875a",
   "metadata": {},
   "outputs": [],
   "source": [
    "# 你的程式\n",
    "\n",
    "import numpy as np\n",
    "import matplotlib.pyplot as plt\n",
    "\n",
    "# 固定亂數種子以便結果可重現\n",
    "np.random.seed(768)\n",
    "# 固定亂數種子以便結果可重現\n",
    "np.random.seed(768)\n",
    "n=200\n",
    "\n",
    "# 散佈圖資料\n",
    "x = np.random.normal(loc=2.0, scale=1.0, size=n)\n",
    "y = x * 0.5 + np.random.normal(scale=0.8, size=n)\n",
    "size_var = np.abs(np.random.normal(loc=20, scale=10, size=n))  # 基礎點面積（可選擇縮放）\n",
    "\n",
    "# 為了視覺效果，對 size_var 做適度縮放（matplotlib 的 s 參數是面積）\n",
    "\n",
    "plt.show()\n",
    "\n"
   ]
  },
  {
   "cell_type": "code",
   "execution_count": null,
   "id": "e9fc7701-195a-4e07-ad4d-7f0c74849675",
   "metadata": {},
   "outputs": [],
   "source": []
  },
  {
   "cell_type": "code",
   "execution_count": null,
   "id": "258b9adb-bee1-4b73-829e-4ac7aa751d5d",
   "metadata": {},
   "outputs": [],
   "source": []
  }
 ],
 "metadata": {
  "kernelspec": {
   "display_name": "Python 3 (ipykernel)",
   "language": "python",
   "name": "python3"
  },
  "language_info": {
   "codemirror_mode": {
    "name": "ipython",
    "version": 3
   },
   "file_extension": ".py",
   "mimetype": "text/x-python",
   "name": "python",
   "nbconvert_exporter": "python",
   "pygments_lexer": "ipython3",
   "version": "3.12.3"
  }
 },
 "nbformat": 4,
 "nbformat_minor": 5
}
